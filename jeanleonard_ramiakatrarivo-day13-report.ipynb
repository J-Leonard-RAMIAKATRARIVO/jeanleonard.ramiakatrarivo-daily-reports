{
 "cells": [
  {
   "cell_type": "markdown",
   "metadata": {
    "id": "53N3iK03l1e2"
   },
   "source": [
    "# PyPro: Challenge 3\n",
    "\n",
    "### This challenge is due on Saturday, October 10th, 2024, at 8pm.\n",
    "\n",
    "`These exercises offer a diverse array of tasks that assess your comprehension of fundamental Python concepts such as loops, data types, string manipulations, list comprehensions, and higher-order functions.`\n",
    "\n",
    "\n",
    "\n",
    "Here is the given text in proper markdown format with numbered questions:\n",
    "\n",
    "# PyPro Challenges"
   ]
  },
  {
   "cell_type": "markdown",
   "metadata": {
    "id": "53N3iK03l1e2"
   },
   "source": [
    "1. **Perfect Numbers Calculation**  \n",
    "   By definition, a natural number is called a perfect number if its value is equal to the sum of its divisors. For example, 6 and 28 are perfect numbers:\n",
    "   \n",
    "   ```\n",
    "   1 + 2 + 3 = 6\n",
    "   1 + 2 + 4 + 7 + 14 = 28\n",
    "   ```\n",
    "   \n",
    "   Write a function `calc_perfect_numbers(max_exclusive)` that calculates all perfect numbers up to a maximum value, such as 10,000."
   ]
  },
  {
   "cell_type": "code",
   "execution_count": 34,
   "metadata": {},
   "outputs": [],
   "source": [
    "def is_perfect_number(n):\n",
    "    sum_div = 0\n",
    "    for i in range(1,n):\n",
    "        if n % i == 0:\n",
    "            sum_div = sum_div + i\n",
    "    if sum_div == n:\n",
    "        return True\n",
    "    else:\n",
    "        return False\n",
    "def calc_perfect_numbers(max_exclusive):\n",
    "    list_perfect_number = []\n",
    "    for i in range(1,max_exclusive):\n",
    "        if is_perfect_number(i):\n",
    "            list_perfect_number.append(i)\n",
    "    print(\",\".join(str(elt) for elt in list_perfect_number))\n",
    "    \n",
    "    "
   ]
  },
  {
   "cell_type": "code",
   "execution_count": 36,
   "metadata": {
    "scrolled": true
   },
   "outputs": [
    {
     "name": "stdout",
     "output_type": "stream",
     "text": [
      "6,28,496,8128\n"
     ]
    }
   ],
   "source": [
    "calc_perfect_numbers(10000)"
   ]
  },
  {
   "cell_type": "markdown",
   "metadata": {
    "id": "53N3iK03l1e2"
   },
   "source": [
    "2. **Prime Numbers Calculation**  \n",
    "   Write a function `calc_primes_up_to(max_value)` to compute all prime numbers up to a given value. A prime number is a natural number greater than 1 that is only divisible by 1 and itself. The Sieve of Eratosthenes is a useful algorithm for this task.  \n",
    "   Test your algorithm with the following values:\n",
    "   \n",
    "   | Input | Result                                      |\n",
    "   |-------|---------------------------------------------|\n",
    "   | 15    | [2, 3, 5, 7, 11, 13]                        |\n",
    "   | 25    | [2, 3, 5, 7, 11, 13, 17, 19, 23]            |\n",
    "   | 50    | [2, 3, 5, 7, 11, 13, 17, 19, 23, 29, 31...] |"
   ]
  },
  {
   "cell_type": "code",
   "execution_count": 54,
   "metadata": {},
   "outputs": [],
   "source": [
    "def prime_SieveOfEratosthenes(num):\n",
    "    prime = [True for i in range(num+1)]\n",
    "    list_prim_number = []\n",
    "    p = 2\n",
    "    while (p * p <= num):\n",
    " \n",
    "        if (prime[p] == True):\n",
    " \n",
    "            for i in range(p*p, num+1, p):\n",
    "                prime[i] = False\n",
    "        p += 1\n",
    " \n",
    "    for p in range(2, num+1):\n",
    "        if prime[p]:\n",
    "            list_prim_number.append(p)\n",
    "    return list_prim_number      \n",
    " "
   ]
  },
  {
   "cell_type": "code",
   "execution_count": 76,
   "metadata": {},
   "outputs": [
    {
     "name": "stdout",
     "output_type": "stream",
     "text": [
      "input     Result\n",
      "--------------------\n",
      "15        [2, 3, 5, 7, 11, 13]\n",
      "25        [2, 3, 5, 7, 11, 13, 17, 19, 23]\n",
      "50        [2, 3, 5, 7, 11, 13, 17, 19, 23, 29, 31, 37, 41, 43, 47]\n"
     ]
    }
   ],
   "source": [
    "list_input = [15, 25, 50]\n",
    "print(f\"{'input':<10}{'Result':}\")\n",
    "print(\"-\"*20)\n",
    "for n in list_input:\n",
    "    print(f\"{n:<10}{prime_SieveOfEratosthenes(n)}\")"
   ]
  },
  {
   "cell_type": "markdown",
   "metadata": {
    "id": "53N3iK03l1e2"
   },
   "source": [
    "3. **Twin, Cousin, and Sexy Prime Numbers**  \n",
    "   Compute all pairs of prime numbers with a distance of 2 (twin), 4 (cousin), and 6 (sexy) up to an upper bound `n`.  \n",
    "   For example, for `limit=50`, the expected results are:\n",
    "   \n",
    "   - **Twins**: `{3: 5, 5: 7, 11: 13, 17: 19, 29: 31, 41: 43}`\n",
    "   - **Cousins**: `{3: 7, 7: 11, 13: 17, 19: 23, 37: 41, 43: 47}`\n",
    "   - **Sexy**: `{5: 11, 7: 13, 11: 17, 13: 19, 17: 23, 23: 29, 31: 37, 37: 43, 41: 47, 47: 53}`"
   ]
  },
  {
   "cell_type": "code",
   "execution_count": 57,
   "metadata": {},
   "outputs": [
    {
     "name": "stdout",
     "output_type": "stream",
     "text": [
      "Twins : {3: 5, 5: 7, 11: 13, 17: 19, 29: 31, 41: 43}\n",
      "Cousins: {3: 7, 7: 11, 13: 17, 19: 23, 37: 41, 43: 47}\n",
      "sexy: {5: 11, 7: 13, 11: 17, 13: 19, 17: 23, 23: 29, 31: 37, 37: 43, 41: 47, 47: 53}\n"
     ]
    }
   ],
   "source": [
    "primes = prime_SieveOfEratosthenes(50+6)\n",
    "twins = {}\n",
    "cousins = {}\n",
    "sexy = {}\n",
    "for p in primes:\n",
    "    if p+2 in primes:\n",
    "        twins[p]=p+2\n",
    "    if p+4 in primes:\n",
    "        cousins[p] = p+4\n",
    "    if p+6 in primes:\n",
    "        sexy[p] = p+6\n",
    "print(\"Twins :\", twins)\n",
    "print(\"Cousins:\", cousins)\n",
    "print(\"sexy:\", sexy)"
   ]
  },
  {
   "cell_type": "markdown",
   "metadata": {
    "id": "53N3iK03l1e2"
   },
   "source": [
    "4. **Sum of Digits (Recursive)**  \n",
    "   Write a recursive function `calc_sum_of_digits(value)` that calculates the sum of the digits of a given number.  \n",
    "   Examples:\n",
    "   \n",
    "   | Input  | Number of Digits | Cross Sum         |\n",
    "   |--------|------------------|-------------------|\n",
    "   | 1234   | 4                | 1 + 2 + 3 + 4 = 10|\n",
    "   | 1234567| 7                | 1 + 2 + 3 + ... 7 = 28|"
   ]
  },
  {
   "cell_type": "code",
   "execution_count": 59,
   "metadata": {},
   "outputs": [],
   "source": [
    "def calc_sum_of_digits(n):\n",
    "    if n == 0:\n",
    "        return 0\n",
    "    else:\n",
    "        return n%10 + calc_sum_of_digits(n//10)"
   ]
  },
  {
   "cell_type": "code",
   "execution_count": 62,
   "metadata": {},
   "outputs": [
    {
     "data": {
      "text/plain": [
       "10"
      ]
     },
     "execution_count": 62,
     "metadata": {},
     "output_type": "execute_result"
    }
   ],
   "source": [
    "calc_sum_of_digits(1234)"
   ]
  },
  {
   "cell_type": "code",
   "execution_count": 63,
   "metadata": {},
   "outputs": [
    {
     "data": {
      "text/plain": [
       "28"
      ]
     },
     "execution_count": 63,
     "metadata": {},
     "output_type": "execute_result"
    }
   ],
   "source": [
    "calc_sum_of_digits(1234567)"
   ]
  },
  {
   "cell_type": "markdown",
   "metadata": {
    "id": "53N3iK03l1e2"
   },
   "source": [
    "5. **Convert to Binary (Recursive)**  \n",
    "   Write a function `to_binary(n)` that recursively converts the given positive integer into its binary string representation (without using `int(x, base)`).  \n",
    "   Examples:\n",
    "   \n",
    "   | Input | Result       |\n",
    "   |-------|--------------|\n",
    "   | 5     | \"101\"        |\n",
    "   | 7     | \"111\"        |\n",
    "   | 22    | \"10110\"      |\n",
    "   | 42    | \"101010\"     |\n",
    "   | 256   | \"100000000\"  |"
   ]
  },
  {
   "cell_type": "code",
   "execution_count": 65,
   "metadata": {},
   "outputs": [],
   "source": [
    "def to_binary(n):\n",
    "    if n == 0:\n",
    "        return 0\n",
    "    else:\n",
    "        return n%2 + 10*to_binary(n//2)"
   ]
  },
  {
   "cell_type": "code",
   "execution_count": 71,
   "metadata": {},
   "outputs": [
    {
     "name": "stdout",
     "output_type": "stream",
     "text": [
      "Input     Result\n",
      "---------------\n",
      "5         101\n",
      "7         111\n",
      "42        101010\n",
      "256       100000000\n"
     ]
    }
   ],
   "source": [
    "list_input = [5,7,42,256]\n",
    "print(f\"{'Input':<10}{'Result':}\")\n",
    "print(\"-\"*15)\n",
    "for i in list_input:\n",
    "    print(f\"{i:<10}{to_binary(i)}\")"
   ]
  },
  {
   "cell_type": "markdown",
   "metadata": {
    "id": "53N3iK03l1e2"
   },
   "source": [
    "6. **Letter Permutations**  \n",
    "   Write a function `calc_permutations(text)` that calculates all possible permutations of the characters in the given string. Handle duplicate letters but avoid using Python's `itertools.permutations()`.  \n",
    "   Examples:\n",
    "   \n",
    "   | Input | Result                                       |\n",
    "   |-------|----------------------------------------------|\n",
    "   | \"a\"   | \"a\"                                          |\n",
    "   | \"aa\"  | \"aa\"                                         |\n",
    "   | \"aB\"  | \"aB\", \"Ba\"                                   |\n",
    "   | \"aBC\" | \"aBC\", \"BaC\", \"aCB\", \"CaB\", \"CBa\", \"BCa\"     |\n",
    "   | \"aaC\" | \"aaC\", \"aCa\", \"Caa\"                          |"
   ]
  },
  {
   "cell_type": "code",
   "execution_count": null,
   "metadata": {},
   "outputs": [],
   "source": []
  },
  {
   "cell_type": "markdown",
   "metadata": {
    "id": "53N3iK03l1e2"
   },
   "source": [
    "7. **Join Strings with Delimiter**  \n",
    "   Write a function `join(values, delimiter)` that joins a list of strings with the given delimiter and returns it as a single string. Implement this without using Python's built-in `join()` function.  \n",
    "   Example:\n",
    "   \n",
    "   - Input: `[\"hello\", \"world\", \"message\"]`, `\" +++ \"`\n",
    "   - Result: `\"hello +++ world +++ message\"`"
   ]
  },
  {
   "cell_type": "code",
   "execution_count": 83,
   "metadata": {},
   "outputs": [],
   "source": [
    "def join(values, delimiter):\n",
    "    res = \"\"\n",
    "    for i in range(len(values)):\n",
    "        if i == len(values)-1:\n",
    "            res = res + values[i]\n",
    "        else:\n",
    "            res += values[i] + delimiter\n",
    "    return res"
   ]
  },
  {
   "cell_type": "code",
   "execution_count": 84,
   "metadata": {},
   "outputs": [
    {
     "data": {
      "text/plain": [
       "'hello +++ world +++ message'"
      ]
     },
     "execution_count": 84,
     "metadata": {},
     "output_type": "execute_result"
    }
   ],
   "source": [
    "join([\"hello\", \"world\", \"message\"], \" +++ \")"
   ]
  },
  {
   "cell_type": "markdown",
   "metadata": {
    "id": "53N3iK03l1e2"
   },
   "source": [
    "8. **Pascal's Triangle**  \n",
    "   Write a function `pascal(n)` that computes Pascal’s triangle as nested lists. Each line is generated from the previous one, with sums of adjacent numbers and a 1 at the beginning and end.  \n",
    "   Example for `n=5`:\n",
    "   \n",
    "   ```\n",
    "   [1]\n",
    "   [1, 1]\n",
    "   [1, 2, 1]\n",
    "   [1, 3, 3, 1]\n",
    "   [1, 4, 6, 4, 1]\n",
    "   ```"
   ]
  },
  {
   "cell_type": "code",
   "execution_count": 98,
   "metadata": {},
   "outputs": [
    {
     "name": "stdout",
     "output_type": "stream",
     "text": [
      "[1]\n",
      "[1, 1]\n",
      "[1, 2, 1]\n",
      "[1, 3, 3, 1]\n",
      "[1, 4, 6, 4, 1]\n",
      "None\n"
     ]
    }
   ],
   "source": [
    "def pascal(n):\n",
    "    if n <= 0:\n",
    "        print(\"\")\n",
    "    else:\n",
    "    \n",
    "        triangle = [[1]]  # Start with the first row\n",
    "    \n",
    "        for i in range(1, n):\n",
    "            row = [1]  # Start each row with a 1\n",
    "            last_row = triangle[i - 1]\n",
    "        \n",
    "            for j in range(1, len(last_row)):\n",
    "                row.append(last_row[j - 1] + last_row[j])\n",
    "            row.append(1) \n",
    "            triangle.append(row)\n",
    "    for i in triangle:\n",
    "        print(i)\n",
    "        \n",
    "print(pascal(5))\n"
   ]
  },
  {
   "cell_type": "code",
   "execution_count": null,
   "metadata": {},
   "outputs": [],
   "source": []
  }
 ],
 "metadata": {
  "colab": {
   "provenance": []
  },
  "kernelspec": {
   "display_name": "Python 3",
   "language": "python",
   "name": "python3"
  },
  "language_info": {
   "codemirror_mode": {
    "name": "ipython",
    "version": 3
   },
   "file_extension": ".py",
   "mimetype": "text/x-python",
   "name": "python",
   "nbconvert_exporter": "python",
   "pygments_lexer": "ipython3",
   "version": "3.9.2"
  }
 },
 "nbformat": 4,
 "nbformat_minor": 1
}
