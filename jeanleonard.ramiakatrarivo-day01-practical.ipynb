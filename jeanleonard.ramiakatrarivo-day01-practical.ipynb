{
 "cells": [
  {
   "cell_type": "markdown",
   "id": "17c32d05",
   "metadata": {},
   "source": [
    "# Practical_1: Variables and Assignments\n",
    "\n"
   ]
  },
  {
   "cell_type": "markdown",
   "id": "88d6465f",
   "metadata": {},
   "source": [
    "### Exercise 1:\n",
    "Declare a variable `x` and assign it the value `10`."
   ]
  },
  {
   "cell_type": "code",
   "execution_count": 4,
   "id": "717817f1",
   "metadata": {},
   "outputs": [],
   "source": [
    "x = 10"
   ]
  },
  {
   "cell_type": "markdown",
   "id": "6751cf33",
   "metadata": {},
   "source": [
    "### Exercise 2:\n",
    "Assign the value `True` to a variable called `is_valid`."
   ]
  },
  {
   "cell_type": "code",
   "execution_count": 6,
   "id": "138d9ae0",
   "metadata": {},
   "outputs": [],
   "source": [
    "is_valid = True"
   ]
  },
  {
   "cell_type": "markdown",
   "id": "1d3c034f",
   "metadata": {},
   "source": [
    "### Exercise 3:\n",
    "Create a string variable `name` with the value \"Python Programming\"."
   ]
  },
  {
   "cell_type": "code",
   "execution_count": 7,
   "id": "a605e311",
   "metadata": {},
   "outputs": [],
   "source": [
    "name = \"Python Programming\""
   ]
  },
  {
   "cell_type": "markdown",
   "id": "2d4f9b93",
   "metadata": {},
   "source": [
    "### Exercise 4:\n",
    "Assign the result of `5 + 3` to a variable `sum_result`."
   ]
  },
  {
   "cell_type": "code",
   "execution_count": 8,
   "id": "53c22d1e",
   "metadata": {},
   "outputs": [
    {
     "name": "stdout",
     "output_type": "stream",
     "text": [
      "8\n"
     ]
    }
   ],
   "source": [
    "sum_result = 5+3\n",
    "print(sum_result)"
   ]
  },
  {
   "cell_type": "markdown",
   "id": "09cc38e2",
   "metadata": {},
   "source": [
    "### Exercise 5:\n",
    "Assign multiple variables in one line: `a = 5`, `b = 10`, `c = 15`."
   ]
  },
  {
   "cell_type": "code",
   "execution_count": 9,
   "id": "38c516c0",
   "metadata": {},
   "outputs": [],
   "source": [
    "a, b, c = 5, 10, 15"
   ]
  },
  {
   "cell_type": "markdown",
   "id": "56b39104",
   "metadata": {},
   "source": [
    "### Exercise 6:\n",
    "Assign the value of one variable `x` to another variable `y`."
   ]
  },
  {
   "cell_type": "code",
   "execution_count": 12,
   "id": "0a910a98",
   "metadata": {},
   "outputs": [
    {
     "name": "stdout",
     "output_type": "stream",
     "text": [
      "10\n"
     ]
    }
   ],
   "source": [
    "x = 10\n",
    "y = x\n",
    "print(y)"
   ]
  },
  {
   "cell_type": "markdown",
   "id": "7a851f39",
   "metadata": {},
   "source": [
    "### Exercise 7:\n",
    "Assign a floating-point number `9.8` to a variable `gravity`."
   ]
  },
  {
   "cell_type": "code",
   "execution_count": null,
   "id": "a9e36b3c",
   "metadata": {},
   "outputs": [],
   "source": [
    "gravity = 9.8"
   ]
  },
  {
   "cell_type": "markdown",
   "id": "01d53ed6",
   "metadata": {},
   "source": [
    "### Exercise 8:\n",
    "Create a variable `country` and assign it the string value of your favorite country."
   ]
  },
  {
   "cell_type": "code",
   "execution_count": 13,
   "id": "e9d1aff5",
   "metadata": {},
   "outputs": [
    {
     "name": "stdout",
     "output_type": "stream",
     "text": [
      "Madagascar\n"
     ]
    }
   ],
   "source": [
    "country = \"Madagascar\"\n",
    "print(country)"
   ]
  },
  {
   "cell_type": "markdown",
   "id": "4729317a",
   "metadata": {},
   "source": [
    "### Exercise 9:\n",
    "Change the value of variable `age` from `25` to `26` in two separate steps."
   ]
  },
  {
   "cell_type": "code",
   "execution_count": 14,
   "id": "ded4ab30",
   "metadata": {},
   "outputs": [
    {
     "name": "stdout",
     "output_type": "stream",
     "text": [
      "26\n"
     ]
    }
   ],
   "source": [
    "age , temp = 25, 26\n",
    "age = temp\n",
    "print(age)"
   ]
  },
  {
   "cell_type": "markdown",
   "id": "aecd03de",
   "metadata": {},
   "source": [
    "### Exercise 10:\n",
    "Use one variable to store the result of subtracting two numbers `20 - 7`."
   ]
  },
  {
   "cell_type": "code",
   "execution_count": 15,
   "id": "e5d5f32e",
   "metadata": {},
   "outputs": [
    {
     "name": "stdout",
     "output_type": "stream",
     "text": [
      "13\n"
     ]
    }
   ],
   "source": [
    "substrac_result = 20 - 7\n",
    "print(substrac_result)"
   ]
  },
  {
   "cell_type": "markdown",
   "id": "6aaf9465",
   "metadata": {},
   "source": [
    "### Exercise 11:\n",
    "Assign an integer value and a floating-point value to two different variables."
   ]
  },
  {
   "cell_type": "code",
   "execution_count": 20,
   "id": "90145f4f",
   "metadata": {},
   "outputs": [
    {
     "name": "stdout",
     "output_type": "stream",
     "text": [
      "<class 'int'>\n",
      "<class 'float'>\n"
     ]
    }
   ],
   "source": [
    "an_integer , a_floating = 7, 7.0\n",
    "print(type(an_integer))\n",
    "print(type(a_floating))"
   ]
  },
  {
   "cell_type": "markdown",
   "id": "dc9f9587",
   "metadata": {},
   "source": [
    "### Exercise 12:\n",
    "Assign a boolean value `False` to a variable `is_completed`."
   ]
  },
  {
   "cell_type": "code",
   "execution_count": 22,
   "id": "fbfe7afc",
   "metadata": {},
   "outputs": [
    {
     "name": "stdout",
     "output_type": "stream",
     "text": [
      "False\n"
     ]
    }
   ],
   "source": [
    "is_completed = False\n",
    "print(is_completed)"
   ]
  },
  {
   "cell_type": "markdown",
   "id": "d76a2804",
   "metadata": {},
   "source": [
    "### Exercise 13:\n",
    "Swap the values of two variables `x` and `y`."
   ]
  },
  {
   "cell_type": "code",
   "execution_count": null,
   "id": "e3518d4d",
   "metadata": {},
   "outputs": [],
   "source": [
    "temp = x\n",
    "x = y\n",
    "y = temp"
   ]
  },
  {
   "cell_type": "markdown",
   "id": "06e53020",
   "metadata": {},
   "source": [
    "### Exercise 14:\n",
    "Assign a complex number `3 + 4j` to a variable `complex_num`."
   ]
  },
  {
   "cell_type": "code",
   "execution_count": 25,
   "id": "ac5c641c",
   "metadata": {},
   "outputs": [
    {
     "data": {
      "text/plain": [
       "(3+4j)"
      ]
     },
     "execution_count": 25,
     "metadata": {},
     "output_type": "execute_result"
    }
   ],
   "source": [
    "complex_num = complex(3, 4)\n",
    "complex_num"
   ]
  },
  {
   "cell_type": "markdown",
   "id": "0c39f22b",
   "metadata": {},
   "source": [
    "### Exercise 15:\n",
    "Reassign a variable from an integer to a string."
   ]
  },
  {
   "cell_type": "code",
   "execution_count": 27,
   "id": "dca4e5c7",
   "metadata": {},
   "outputs": [
    {
     "name": "stdout",
     "output_type": "stream",
     "text": [
      "<class 'int'>\n",
      "<class 'str'>\n"
     ]
    }
   ],
   "source": [
    "a = 8\n",
    "b = str(a)\n",
    "print(type(a))\n",
    "print(type(b))"
   ]
  },
  {
   "cell_type": "markdown",
   "id": "f4f1922c",
   "metadata": {},
   "source": [
    "### Exercise 16:\n",
    "Create two variables `first_name` and `last_name`, and assign them your first and last names."
   ]
  },
  {
   "cell_type": "code",
   "execution_count": 29,
   "id": "bc355e0e",
   "metadata": {},
   "outputs": [
    {
     "name": "stdout",
     "output_type": "stream",
     "text": [
      "Leonard RAMIAKATRARIVO\n"
     ]
    }
   ],
   "source": [
    "first_name = \"Leonard\"\n",
    "last_name = \"RAMIAKATRARIVO\"\n",
    "print(first_name, last_name)"
   ]
  },
  {
   "cell_type": "markdown",
   "id": "0026ea70",
   "metadata": {},
   "source": [
    "### Exercise 17:\n",
    "Create a variable `temperature` and assign it the value of `35.5`."
   ]
  },
  {
   "cell_type": "code",
   "execution_count": 30,
   "id": "d80fe630",
   "metadata": {},
   "outputs": [],
   "source": [
    " temperature = 35.5"
   ]
  },
  {
   "cell_type": "markdown",
   "id": "533111e8",
   "metadata": {},
   "source": [
    "### Exercise 18:\n",
    "Assign the result of the multiplication of two numbers `8 * 6` to a variable `product`."
   ]
  },
  {
   "cell_type": "code",
   "execution_count": 31,
   "id": "1fa7d5f6",
   "metadata": {},
   "outputs": [
    {
     "data": {
      "text/plain": [
       "48"
      ]
     },
     "execution_count": 31,
     "metadata": {},
     "output_type": "execute_result"
    }
   ],
   "source": [
    "product = 8 * 6\n",
    "product"
   ]
  },
  {
   "cell_type": "markdown",
   "id": "591e9d65",
   "metadata": {},
   "source": [
    "### Exercise 19:\n",
    "Assign a sentence of your choice to a variable `sentence`."
   ]
  },
  {
   "cell_type": "code",
   "execution_count": 32,
   "id": "4e914d0c",
   "metadata": {},
   "outputs": [
    {
     "data": {
      "text/plain": [
       "\"I'm Leonard.\""
      ]
     },
     "execution_count": 32,
     "metadata": {},
     "output_type": "execute_result"
    }
   ],
   "source": [
    "sentence = \"I'm Leonard.\"\n",
    "sentence"
   ]
  },
  {
   "cell_type": "markdown",
   "id": "d9bcea8f",
   "metadata": {},
   "source": [
    "### Exercise 20:\n",
    "Use an assignment to convert a string `'50'` into an integer variable `int_value`."
   ]
  },
  {
   "cell_type": "code",
   "execution_count": 35,
   "id": "6fd2603f",
   "metadata": {},
   "outputs": [
    {
     "name": "stdout",
     "output_type": "stream",
     "text": [
      "<class 'str'>\n",
      "<class 'int'>\n"
     ]
    }
   ],
   "source": [
    "string = \"50\"\n",
    "int_value = int(string)\n",
    "print(type(string))\n",
    "print(type(int_value))      "
   ]
  },
  {
   "cell_type": "markdown",
   "id": "084065c0",
   "metadata": {},
   "source": [
    "### Exercise 21:\n",
    "Assign the result of dividing `144` by `12` to a variable `quotient`."
   ]
  },
  {
   "cell_type": "code",
   "execution_count": 36,
   "id": "8d25d100",
   "metadata": {},
   "outputs": [
    {
     "data": {
      "text/plain": [
       "12"
      ]
     },
     "execution_count": 36,
     "metadata": {},
     "output_type": "execute_result"
    }
   ],
   "source": [
    "quotient = 144 // 12\n",
    "quotient"
   ]
  },
  {
   "cell_type": "markdown",
   "id": "5987c5d2",
   "metadata": {},
   "source": [
    "### Exercise 22:\n",
    "Assign the remainder of `47 divided by 5` to a variable `remainder`"
   ]
  },
  {
   "cell_type": "code",
   "execution_count": 37,
   "id": "1656029c",
   "metadata": {},
   "outputs": [
    {
     "data": {
      "text/plain": [
       "2"
      ]
     },
     "execution_count": 37,
     "metadata": {},
     "output_type": "execute_result"
    }
   ],
   "source": [
    "remainder = 47 % 5\n",
    "remainder"
   ]
  },
  {
   "cell_type": "markdown",
   "id": "3025de0d",
   "metadata": {},
   "source": [
    "### Exercise 23:\n",
    "Create a variable `is_student` and assign it the value `True`."
   ]
  },
  {
   "cell_type": "code",
   "execution_count": 38,
   "id": "08aa2008",
   "metadata": {},
   "outputs": [
    {
     "data": {
      "text/plain": [
       "True"
      ]
     },
     "execution_count": 38,
     "metadata": {},
     "output_type": "execute_result"
    }
   ],
   "source": [
    "is_student = True\n",
    "is_student"
   ]
  },
  {
   "cell_type": "markdown",
   "id": "2fe2f795",
   "metadata": {},
   "source": [
    "### Exercise 24:\n",
    "Use a variable to store the result of a modulo operation: `45 % 4`."
   ]
  },
  {
   "cell_type": "code",
   "execution_count": 39,
   "id": "1121479c",
   "metadata": {},
   "outputs": [
    {
     "data": {
      "text/plain": [
       "1"
      ]
     },
     "execution_count": 39,
     "metadata": {},
     "output_type": "execute_result"
    }
   ],
   "source": [
    "modulo = 45 % 4\n",
    "modulo"
   ]
  },
  {
   "cell_type": "markdown",
   "id": "e483f1f5",
   "metadata": {},
   "source": [
    "### Exercise 25:\n",
    "Create a variable `pi` and assign it the value `3.14159`."
   ]
  },
  {
   "cell_type": "code",
   "execution_count": null,
   "id": "841bf09e",
   "metadata": {},
   "outputs": [],
   "source": [
    "pi = 3.14159"
   ]
  },
  {
   "cell_type": "markdown",
   "id": "2079c722",
   "metadata": {},
   "source": [
    "### Exercise 26:\n",
    "Create two variables `length` and `width`, assign them values, and calculate the area of a rectangle."
   ]
  },
  {
   "cell_type": "code",
   "execution_count": 40,
   "id": "f0e051f1",
   "metadata": {},
   "outputs": [
    {
     "name": "stdout",
     "output_type": "stream",
     "text": [
      "35\n"
     ]
    }
   ],
   "source": [
    "length = 7\n",
    "width = 5\n",
    "area = length * width\n",
    "print(area)"
   ]
  },
  {
   "cell_type": "markdown",
   "id": "3cc86a7d",
   "metadata": {},
   "source": [
    "### Exercise 27:\n",
    "Assign a negative number to a variable `negative_value`."
   ]
  },
  {
   "cell_type": "code",
   "execution_count": 41,
   "id": "5fcb1d3e",
   "metadata": {},
   "outputs": [
    {
     "name": "stdout",
     "output_type": "stream",
     "text": [
      "-97\n"
     ]
    }
   ],
   "source": [
    "negative_value = -97\n",
    "print(negative_value)"
   ]
  },
  {
   "cell_type": "markdown",
   "id": "f41db682",
   "metadata": {},
   "source": [
    "### Exercise 28:\n",
    "Assign a string containing a special character (e.g., \"Hello, World!\") to a variable `greeting`."
   ]
  },
  {
   "cell_type": "code",
   "execution_count": 42,
   "id": "c41fed81",
   "metadata": {},
   "outputs": [
    {
     "data": {
      "text/plain": [
       "'Hello, world!'"
      ]
     },
     "execution_count": 42,
     "metadata": {},
     "output_type": "execute_result"
    }
   ],
   "source": [
    "greeting = \"Hello, world!\"\n",
    "greeting"
   ]
  },
  {
   "cell_type": "markdown",
   "id": "23bbb9eb",
   "metadata": {},
   "source": [
    "### Exercise 29:\n",
    "Create a variable `population` and assign it a large integer value (in billions)."
   ]
  },
  {
   "cell_type": "code",
   "execution_count": 43,
   "id": "ed02bcfa",
   "metadata": {},
   "outputs": [],
   "source": [
    "population = 3000000000"
   ]
  },
  {
   "cell_type": "markdown",
   "id": "4be47959",
   "metadata": {},
   "source": [
    "### Exercise 30:\n",
    "Use a variable to store the result of raising `2` to the power of `8`."
   ]
  },
  {
   "cell_type": "code",
   "execution_count": 44,
   "id": "044d8f8e",
   "metadata": {},
   "outputs": [
    {
     "data": {
      "text/plain": [
       "256"
      ]
     },
     "execution_count": 44,
     "metadata": {},
     "output_type": "execute_result"
    }
   ],
   "source": [
    "power_result = 2**8\n",
    "power_result"
   ]
  },
  {
   "cell_type": "markdown",
   "id": "5d26af80",
   "metadata": {},
   "source": [
    "### Exercise 31:\n",
    "Assign a list of your favorite fruits to a variable `fruits`."
   ]
  },
  {
   "cell_type": "code",
   "execution_count": 45,
   "id": "b95610ea",
   "metadata": {},
   "outputs": [
    {
     "name": "stdout",
     "output_type": "stream",
     "text": [
      "['orange', 'bananas', 'leutchis', 'apple']\n"
     ]
    }
   ],
   "source": [
    "my_favorite_fruits = ['orange', 'bananas','leutchis', 'apple']\n",
    "print(my_favorite_fruits)"
   ]
  },
  {
   "cell_type": "markdown",
   "id": "53d85463",
   "metadata": {},
   "source": [
    "### Exercise 32:\n",
    "Assign a tuple of three numbers to a variable `coordinates`."
   ]
  },
  {
   "cell_type": "code",
   "execution_count": 46,
   "id": "75079d86",
   "metadata": {},
   "outputs": [
    {
     "name": "stdout",
     "output_type": "stream",
     "text": [
      "(5, 7, 11) <class 'tuple'>\n"
     ]
    }
   ],
   "source": [
    "coordinates = (5,7,11)\n",
    "print(coordinates, type(coordinates))"
   ]
  },
  {
   "cell_type": "markdown",
   "id": "acb065de",
   "metadata": {},
   "source": [
    "### Exercise 33:\n",
    "Assign a dictionary with keys `name` and `age` to a variable `person`."
   ]
  },
  {
   "cell_type": "code",
   "execution_count": null,
   "id": "9ec8ab36",
   "metadata": {},
   "outputs": [],
   "source": [
    "person = {'name': 'Bob', 'age': 97}"
   ]
  },
  {
   "cell_type": "markdown",
   "id": "aa69b8da",
   "metadata": {},
   "source": [
    "### Exercise 34:\n",
    "Use variables to store the sum of two floating-point numbers."
   ]
  },
  {
   "cell_type": "code",
   "execution_count": 48,
   "id": "f3afe94e",
   "metadata": {},
   "outputs": [
    {
     "name": "stdout",
     "output_type": "stream",
     "text": [
      "12.200000000000001\n"
     ]
    }
   ],
   "source": [
    "float_sum = 3.14 + 9.06\n",
    "print(float_sum)"
   ]
  },
  {
   "cell_type": "markdown",
   "id": "c2e84db5",
   "metadata": {},
   "source": [
    "### Exercise 35:\n",
    "Create a variable `is_sunny` and assign it the result of a comparison `10 > 5`."
   ]
  },
  {
   "cell_type": "code",
   "execution_count": 49,
   "id": "5e4c48f4",
   "metadata": {},
   "outputs": [
    {
     "name": "stdout",
     "output_type": "stream",
     "text": [
      "True\n"
     ]
    }
   ],
   "source": [
    "is_sunny = 10 > 5\n",
    "print(is_sunny)"
   ]
  },
  {
   "cell_type": "markdown",
   "id": "4bda78eb",
   "metadata": {},
   "source": [
    "### Exercise 36:\n",
    "Assign a string and an integer to two different variables, then print both on one line."
   ]
  },
  {
   "cell_type": "code",
   "execution_count": 50,
   "id": "27dde5a3",
   "metadata": {},
   "outputs": [
    {
     "name": "stdout",
     "output_type": "stream",
     "text": [
      "My name is Bob. 17\n"
     ]
    }
   ],
   "source": [
    "string, integer = \"My name is Bob.\", 17\n",
    "print(string, integer)"
   ]
  },
  {
   "cell_type": "markdown",
   "id": "896fa032",
   "metadata": {},
   "source": [
    "### Exercise 37:\n",
    "Reassign a variable that originally held a number to a boolean value."
   ]
  },
  {
   "cell_type": "code",
   "execution_count": 51,
   "id": "41430ab3",
   "metadata": {},
   "outputs": [
    {
     "name": "stdout",
     "output_type": "stream",
     "text": [
      "1\n"
     ]
    }
   ],
   "source": [
    "boolean = True\n",
    "boolean = 1\n",
    "print(boolean)"
   ]
  },
  {
   "cell_type": "markdown",
   "id": "df3ec054",
   "metadata": {},
   "source": [
    "### Exercise 38:\n",
    "Create a variable `is_weekend` and assign it the result of `False`."
   ]
  },
  {
   "cell_type": "code",
   "execution_count": 52,
   "id": "ef45c068",
   "metadata": {},
   "outputs": [
    {
     "data": {
      "text/plain": [
       "False"
      ]
     },
     "execution_count": 52,
     "metadata": {},
     "output_type": "execute_result"
    }
   ],
   "source": [
    "is_weekend = False\n",
    "is_weekend"
   ]
  },
  {
   "cell_type": "markdown",
   "id": "7b19ecd9",
   "metadata": {},
   "source": [
    "### Exercise 39:\n",
    "Assign a multi-line string to a variable `description`."
   ]
  },
  {
   "cell_type": "code",
   "execution_count": 53,
   "id": "82fc0a84",
   "metadata": {},
   "outputs": [
    {
     "name": "stdout",
     "output_type": "stream",
     "text": [
      " This is a multi-ligne.This is a multi-ligne.\n",
      "This is a multi-ligne.This is a multi-ligne.This is a multi-ligne.\n",
      "This is a multi-ligne.\n"
     ]
    }
   ],
   "source": [
    "description = \"\"\" This is a multi-ligne.This is a multi-ligne.\n",
    "This is a multi-ligne.This is a multi-ligne.This is a multi-ligne.\n",
    "This is a multi-ligne.\"\"\"\n",
    "print(description)"
   ]
  },
  {
   "cell_type": "markdown",
   "id": "b811999a",
   "metadata": {},
   "source": [
    "### Exercise 40:\n",
    "Use variables to store the result of the absolute value of `-25`."
   ]
  },
  {
   "cell_type": "code",
   "execution_count": 54,
   "id": "a976bc4b",
   "metadata": {},
   "outputs": [
    {
     "name": "stdout",
     "output_type": "stream",
     "text": [
      "25\n"
     ]
    }
   ],
   "source": [
    "absolute_value = abs(-25)\n",
    "print(absolute_value)"
   ]
  },
  {
   "cell_type": "markdown",
   "id": "5347d023",
   "metadata": {},
   "source": [
    "### Exercise 41:\n",
    "Assign the result of a floor division `100 // 6` to a variable `floor_div_result`."
   ]
  },
  {
   "cell_type": "code",
   "execution_count": 55,
   "id": "584ee26a",
   "metadata": {},
   "outputs": [
    {
     "name": "stdout",
     "output_type": "stream",
     "text": [
      "16\n"
     ]
    }
   ],
   "source": [
    "floor_div_result = 100 // 6\n",
    "print(floor_div_result)"
   ]
  },
  {
   "cell_type": "markdown",
   "id": "cbcc9613",
   "metadata": {},
   "source": [
    "### Exercise 42:\n",
    "Assign the result of adding a floating-point number to an integer to a variable `mixed_sum`."
   ]
  },
  {
   "cell_type": "code",
   "execution_count": 56,
   "id": "506f41a6",
   "metadata": {},
   "outputs": [
    {
     "name": "stdout",
     "output_type": "stream",
     "text": [
      "17.5 <class 'float'>\n"
     ]
    }
   ],
   "source": [
    "mixed_sum = 7.5 + 10\n",
    "print(mixed_sum, type(mixed_sum))"
   ]
  },
  {
   "cell_type": "markdown",
   "id": "26e3e518",
   "metadata": {},
   "source": [
    "### Exercise 43:\n",
    "Use variables to store a combination of string concatenation."
   ]
  },
  {
   "cell_type": "code",
   "execution_count": 57,
   "id": "c995156d",
   "metadata": {},
   "outputs": [
    {
     "data": {
      "text/plain": [
       "'My name is Bob'"
      ]
     },
     "execution_count": 57,
     "metadata": {},
     "output_type": "execute_result"
    }
   ],
   "source": [
    "concatenation  = \"My name is\" + \" \" + \"Bob\"\n",
    "concatenation"
   ]
  },
  {
   "cell_type": "markdown",
   "id": "8f87be0d",
   "metadata": {},
   "source": [
    "### Exercise 44:\n",
    "Assign an empty list to a variable `empty_list`."
   ]
  },
  {
   "cell_type": "code",
   "execution_count": 58,
   "id": "8e241118",
   "metadata": {},
   "outputs": [
    {
     "data": {
      "text/plain": [
       "[]"
      ]
     },
     "execution_count": 58,
     "metadata": {},
     "output_type": "execute_result"
    }
   ],
   "source": [
    "empty_list  = []\n",
    "empty_list"
   ]
  },
  {
   "cell_type": "markdown",
   "id": "d3860cc0",
   "metadata": {},
   "source": [
    "### Exercise 45:\n",
    "Assign a boolean value based on the comparison of two variables `a = 10` and `b = 15`."
   ]
  },
  {
   "cell_type": "code",
   "execution_count": null,
   "id": "781b76af",
   "metadata": {},
   "outputs": [],
   "source": [
    "a , b = 10, 15\n",
    "boolean = a > b\n",
    "print(boolean)"
   ]
  },
  {
   "cell_type": "markdown",
   "id": "fa8860b7",
   "metadata": {},
   "source": [
    "### Exercise 46:\n",
    "Assign a long sentence to a variable and count its characters using `len()`."
   ]
  },
  {
   "cell_type": "code",
   "execution_count": 59,
   "id": "f72915a9",
   "metadata": {},
   "outputs": [
    {
     "name": "stdout",
     "output_type": "stream",
     "text": [
      "32\n"
     ]
    }
   ],
   "source": [
    "sentence = \"My name is Bob.I'm 97 years old.\"\n",
    "print(len(sentence))"
   ]
  },
  {
   "cell_type": "markdown",
   "id": "1011a458",
   "metadata": {},
   "source": [
    "### Exercise 47:\n",
    "Assign a fractional result `7 / 3` to a variable `division_result`."
   ]
  },
  {
   "cell_type": "code",
   "execution_count": 60,
   "id": "1807da6d",
   "metadata": {},
   "outputs": [
    {
     "name": "stdout",
     "output_type": "stream",
     "text": [
      "2.3333333333333335\n"
     ]
    }
   ],
   "source": [
    "div_result = 7 / 3\n",
    "print(div_result)"
   ]
  },
  {
   "cell_type": "markdown",
   "id": "becd348f",
   "metadata": {},
   "source": [
    "### Exercise 48:\n",
    "Create a variable `speed` and assign it the value of 100 kilometers per hour."
   ]
  },
  {
   "cell_type": "code",
   "execution_count": 61,
   "id": "0bb2c328",
   "metadata": {},
   "outputs": [
    {
     "name": "stdout",
     "output_type": "stream",
     "text": [
      "100 km per hour\n"
     ]
    }
   ],
   "source": [
    "speed = str(100) + \" km per hour\"\n",
    "print(speed)"
   ]
  },
  {
   "cell_type": "markdown",
   "id": "14a5aad8",
   "metadata": {},
   "source": [
    "### Exercise 49:\n",
    "Assign a multi-variable equation like `y = 3x + 5` where `x = 4` to a variable `y`."
   ]
  },
  {
   "cell_type": "code",
   "execution_count": 63,
   "id": "2a0e8cf7",
   "metadata": {},
   "outputs": [
    {
     "name": "stdout",
     "output_type": "stream",
     "text": [
      "17\n"
     ]
    }
   ],
   "source": [
    "x = 4\n",
    "y = 3*x + 5\n",
    "print(y)"
   ]
  },
  {
   "cell_type": "markdown",
   "id": "4bb5b0a4",
   "metadata": {},
   "source": [
    "### Exercise 50:\n",
    "Use variables to calculate and store the average of three numbers."
   ]
  },
  {
   "cell_type": "code",
   "execution_count": 65,
   "id": "224d1d78",
   "metadata": {},
   "outputs": [
    {
     "name": "stdout",
     "output_type": "stream",
     "text": [
      "5.0\n"
     ]
    }
   ],
   "source": [
    "a , b, c = 5, 4, 6\n",
    "average = (a + b + c) / 3\n",
    "print(average)"
   ]
  }
 ],
 "metadata": {
  "kernelspec": {
   "display_name": "Python 3",
   "language": "python",
   "name": "python3"
  },
  "language_info": {
   "codemirror_mode": {
    "name": "ipython",
    "version": 3
   },
   "file_extension": ".py",
   "mimetype": "text/x-python",
   "name": "python",
   "nbconvert_exporter": "python",
   "pygments_lexer": "ipython3",
   "version": "3.9.2"
  }
 },
 "nbformat": 4,
 "nbformat_minor": 5
}
