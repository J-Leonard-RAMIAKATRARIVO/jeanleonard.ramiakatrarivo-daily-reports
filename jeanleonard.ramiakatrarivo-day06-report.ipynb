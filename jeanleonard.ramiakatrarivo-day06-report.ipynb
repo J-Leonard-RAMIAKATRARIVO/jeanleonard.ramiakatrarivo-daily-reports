{
 "cells": [
  {
   "cell_type": "markdown",
   "id": "fa9e6500",
   "metadata": {},
   "source": [
    "# Exercise and report"
   ]
  },
  {
   "cell_type": "code",
   "execution_count": null,
   "id": "dcbadbf0",
   "metadata": {},
   "outputs": [],
   "source": [
    "1.Compute the following expressions for a natural number n chosen by the user:"
   ]
  },
  {
   "cell_type": "code",
   "execution_count": 7,
   "id": "4afaf5a8",
   "metadata": {},
   "outputs": [
    {
     "name": "stdout",
     "output_type": "stream",
     "text": [
      "Enter the number n :5\n",
      "Enter your choice to compute(odd or even): odd\n",
      "The odd sum is : 10\n"
     ]
    }
   ],
   "source": [
    "n = int(input(\"Enter the number n :\"))\n",
    "choice = input(\"Enter your choice to compute(odd or even): \")\n",
    "sum1 = 0\n",
    "sum2 = 0\n",
    "for i in range(1,n):\n",
    "    if i % 2 == 0:\n",
    "        sum1 = sum1 + (i + 3)\n",
    "    else:\n",
    "        sum2 = sum2 + (i + 3)\n",
    "    i += 1\n",
    "if choice == \"even\":\n",
    "    print(\"The even sum is :\",sum1)\n",
    "else:\n",
    "    print(\"The odd sum is :\",sum2)\n"
   ]
  },
  {
   "cell_type": "markdown",
   "id": "92b290fa",
   "metadata": {},
   "source": [
    "2. Write a program that reads the number of the day of the week (from 0 to 6). If it is a\n",
    "working day, then the program will write the name of the corresponding day. Otherwise,\n",
    "it will write the word \"Weekend\"."
   ]
  },
  {
   "cell_type": "code",
   "execution_count": 10,
   "id": "03653b87",
   "metadata": {},
   "outputs": [
    {
     "name": "stdout",
     "output_type": "stream",
     "text": [
      "Enter the number of the day of the week (from 0,6) :3\n",
      "Wednesday\n"
     ]
    }
   ],
   "source": [
    "n = (input(\"Enter the number of the day of the week (from 0,6) :\"))\n",
    "day = {\"0\": \"Wekeend\", \"1\": \"Monday\", \"2\": \"Tuesday\", \"3\": \"Wednesday\", \"4\": \"Thursday\", \"5\": \"Friday\", \"6\": \"Wekeend\"}\n",
    "print(day[n])\n",
    "    "
   ]
  },
  {
   "cell_type": "markdown",
   "id": "a4817351",
   "metadata": {},
   "source": [
    "3. Make a program that, given a month number (from 0 to 11), indicates how many days it\n",
    "has (28, 30 or 31), ignoring the leap years."
   ]
  },
  {
   "cell_type": "code",
   "execution_count": 12,
   "id": "a0329c14",
   "metadata": {},
   "outputs": [
    {
     "name": "stdout",
     "output_type": "stream",
     "text": [
      "Enter the number of the month to want :7\n",
      "The month number 7 has 31 days\n"
     ]
    }
   ],
   "source": [
    "n = input(\"Enter the number of the month to want :\")\n",
    "month = {\"0\": \"31 days\", \"1\": \"31 days \", \"2\": \"28 days \", \"3\": \"31 days\", \"4\": \"30 days\",\"5\": \"31 days\", \"6\": \"30 days\", \"7\": \"31 days\", \"8\": \"31 days\", \"9\": \"30 days\", \"10\": \"31 days\"}\n",
    "print(\"The month number\",n, \"has\", month[n])"
   ]
  },
  {
   "cell_type": "markdown",
   "id": "b6e84c78",
   "metadata": {},
   "source": [
    "4. Write two versions of python code that displays your name 3 times. One version with a\n",
    "\"for loop\" and another version with a \"while loop\""
   ]
  },
  {
   "cell_type": "code",
   "execution_count": 20,
   "id": "4010abee",
   "metadata": {},
   "outputs": [
    {
     "name": "stdout",
     "output_type": "stream",
     "text": [
      "Enter your name please :leonard\n",
      "leonardleonardleonard\n"
     ]
    }
   ],
   "source": [
    "s = input(\"Enter your name please :\")\n",
    "name =\"\"\n",
    "for i in range(1,4):\n",
    "    name = name + s\n",
    "    i = i + 1\n",
    "print(name)    "
   ]
  },
  {
   "cell_type": "code",
   "execution_count": 23,
   "id": "4b40cbd1",
   "metadata": {},
   "outputs": [
    {
     "name": "stdout",
     "output_type": "stream",
     "text": [
      "Enter your name please :leonard\n",
      "leonardleonardleonard\n"
     ]
    }
   ],
   "source": [
    "s = input(\"Enter your name please :\")\n",
    "i = 1\n",
    "name = \"\"\n",
    "while i <= 3:\n",
    "    name = name + s\n",
    "    i = i + 1\n",
    "print(name)    \n",
    "    "
   ]
  },
  {
   "cell_type": "markdown",
   "id": "c5acf3c4",
   "metadata": {},
   "source": [
    "5. Given two numbers $a_0$ and $a_1$ , the Fibonacci sequence they generate is constructed from\n",
    "the recursion formula $a_n+1 = a_n + a_{n−1}$ . Calculate the first 15 terms of a Fibonacci\n",
    "sequence, asking the user the initial values."
   ]
  },
  {
   "cell_type": "code",
   "execution_count": 34,
   "id": "f141f9a5",
   "metadata": {},
   "outputs": [
    {
     "name": "stdout",
     "output_type": "stream",
     "text": [
      "Enter a_0 :0\n",
      "Enter a_1 :1\n",
      "0.0\n",
      "1.0\n",
      "1.0\n",
      "2.0\n",
      "3.0\n",
      "5.0\n",
      "8.0\n",
      "13.0\n",
      "21.0\n",
      "34.0\n",
      "55.0\n",
      "89.0\n",
      "144.0\n",
      "233.0\n",
      "377.0\n"
     ]
    }
   ],
   "source": [
    "a_0 = float(input(\"Enter a_0 :\"))\n",
    "a_1 = float(input(\"Enter a_1 :\"))\n",
    "i = 2\n",
    "print(a_0)\n",
    "print(a_1)\n",
    "while i <= 14:\n",
    "    b =  a_1 + a_0\n",
    "    print(b)\n",
    "    a_0 = a_1\n",
    "    a_1 = b\n",
    "    i += 1"
   ]
  },
  {
   "cell_type": "code",
   "execution_count": 37,
   "id": "da41647f",
   "metadata": {},
   "outputs": [
    {
     "name": "stdout",
     "output_type": "stream",
     "text": [
      "Enter a_0 :0\n",
      "Enter a_1 :1\n",
      "0.0\n",
      "1.0\n",
      "0.5\n",
      "3.25\n",
      "3.125\n",
      "11.3125\n",
      "15.03125\n",
      "41.453125\n",
      "65.8203125\n",
      "157.26953125\n",
      "276.095703125\n",
      "609.8564453125\n",
      "1133.21533203125\n",
      "2396.177001953125\n",
      "4597.7344970703125\n",
      "9487.398254394531\n",
      "18536.902618408203\n",
      "37730.646072387695\n",
      "74476.03089141846\n",
      "150429.9536628723\n",
      "298643.0695056915\n",
      "600611.3957414627\n",
      "1196234.906387806\n",
      "2399951.640418291\n",
      "4788680.539372563\n",
      "9594195.190941155\n",
      "19163139.213588268\n",
      "38364155.1796176\n",
      "76671495.2305736\n",
      "153428213.15413958\n",
      "306728592.2687906\n"
     ]
    }
   ],
   "source": [
    "a_0 = float(input(\"Enter a_0 :\"))\n",
    "a_1 = float(input(\"Enter a_1 :\"))\n",
    "i = 2\n",
    "print(a_0)\n",
    "print(a_1)\n",
    "while i <= 30:\n",
    "    b =  (1/2)*a_1 + 3*a_0\n",
    "    print(b)\n",
    "    a_0 = a_1\n",
    "    a_1 = b\n",
    "    i += 1"
   ]
  },
  {
   "cell_type": "markdown",
   "id": "5ccc0dbf",
   "metadata": {},
   "source": [
    "7.  Write python code to determine whether or not a year is a leap year. Be sure you\n",
    "know what a leap year is"
   ]
  },
  {
   "cell_type": "code",
   "execution_count": 39,
   "id": "e84d85bd",
   "metadata": {},
   "outputs": [
    {
     "name": "stdout",
     "output_type": "stream",
     "text": [
      "Enter your year : 2028\n",
      "2028  is a leap year\n"
     ]
    }
   ],
   "source": [
    "year = int(input(\"Enter your year : \"))\n",
    "if ((year % 4 == 0 and year % 100 != 0) or (year % 400 == 0)):\n",
    "    print(year, \" is a leap year\")\n",
    "else:\n",
    "    print(year, \"is not leap year\")"
   ]
  },
  {
   "cell_type": "markdown",
   "id": "0d4d6d91",
   "metadata": {},
   "source": [
    "7. a) Write python code that computes the sum of the square of the first n natural numbers.\n",
    "One version with a \"for loop\" and another version with a \"while loop\"."
   ]
  },
  {
   "cell_type": "code",
   "execution_count": 41,
   "id": "fbee6f99",
   "metadata": {},
   "outputs": [
    {
     "name": "stdout",
     "output_type": "stream",
     "text": [
      "Enter the number :3\n",
      "14\n"
     ]
    }
   ],
   "source": [
    "# using 'for loop'\n",
    "number = int(input(\"Enter the number :\"))\n",
    "sum = 0\n",
    "for i in range(1,number + 1):\n",
    "    sum = sum + i**2\n",
    "    i += 1\n",
    "print(sum)    \n",
    "    "
   ]
  },
  {
   "cell_type": "code",
   "execution_count": 46,
   "id": "a801abf0",
   "metadata": {},
   "outputs": [
    {
     "name": "stdout",
     "output_type": "stream",
     "text": [
      "Enter the number :3\n",
      "14\n"
     ]
    }
   ],
   "source": [
    "# using while loop\n",
    "number = int(input(\"Enter the number :\"))\n",
    "sum = 0\n",
    "i = 1\n",
    "while i <= number:\n",
    "    sum = sum + i**2\n",
    "    i += 1\n",
    "print(sum) "
   ]
  },
  {
   "cell_type": "markdown",
   "id": "72dd8731",
   "metadata": {},
   "source": [
    "b) Write python code that prints, for a natural number $M$ , the smallest natural number\n",
    "n such that $1^2 + 2^2 + · · · + n^2 \\ge M$. One version with a \"for loop\" and another version\n",
    "with a \"while loop\"."
   ]
  },
  {
   "cell_type": "code",
   "execution_count": 56,
   "id": "c501e18a",
   "metadata": {},
   "outputs": [
    {
     "name": "stdout",
     "output_type": "stream",
     "text": [
      "Enter the number :10\n",
      "3\n"
     ]
    }
   ],
   "source": [
    "# using for loop\n",
    "M = int(input(\"Enter the number :\"))\n",
    "sum = 0\n",
    "for i in range(1,M):\n",
    "    sum = sum + i**2\n",
    "    if sum >= M:\n",
    "        print(i)\n",
    "        break\n",
    "    else:\n",
    "        i += 1\n",
    "    "
   ]
  },
  {
   "cell_type": "code",
   "execution_count": 58,
   "id": "f5962a9e",
   "metadata": {},
   "outputs": [
    {
     "name": "stdout",
     "output_type": "stream",
     "text": [
      "Enter the number :10\n",
      "3\n"
     ]
    }
   ],
   "source": [
    "# using while loop\n",
    "M = int(input(\"Enter the number :\"))\n",
    "sum = 0\n",
    "i = 1\n",
    "while sum <= M:\n",
    "    sum = sum + i**2\n",
    "    i = i + 1\n",
    "print(i-1)\n",
    "    \n",
    "    \n"
   ]
  },
  {
   "cell_type": "markdown",
   "id": "04b6a0b2",
   "metadata": {},
   "source": [
    "9. a) Write python code that prints all the divisors of a given natural number."
   ]
  },
  {
   "cell_type": "code",
   "execution_count": 77,
   "id": "47f8d773",
   "metadata": {},
   "outputs": [
    {
     "name": "stdout",
     "output_type": "stream",
     "text": [
      "Enter the number :10\n",
      "[1, 2, 5, 10]\n"
     ]
    }
   ],
   "source": [
    "n = int(input(\"Enter the number :\"))\n",
    "List_div = []\n",
    "for i in range(1, n + 1):\n",
    "    if n % i == 0:\n",
    "        List_div.append(i)\n",
    "    i += 1\n",
    "print(List_div)    \n",
    "    "
   ]
  },
  {
   "cell_type": "code",
   "execution_count": 59,
   "id": "7dc9852f",
   "metadata": {},
   "outputs": [
    {
     "data": {
      "text/plain": [
       "3"
      ]
     },
     "execution_count": 59,
     "metadata": {},
     "output_type": "execute_result"
    }
   ],
   "source": [
    "int(3.5)"
   ]
  },
  {
   "cell_type": "markdown",
   "id": "76aaa79e",
   "metadata": {},
   "source": [
    "b) Read an integer number input by the user and calculate its prime factors. This will\n",
    "just be some of its divisors."
   ]
  },
  {
   "cell_type": "code",
   "execution_count": 76,
   "id": "5bf6f25e",
   "metadata": {},
   "outputs": [
    {
     "name": "stdout",
     "output_type": "stream",
     "text": [
      "Enter the number :10\n",
      "List of all divisor [1, 2, 5, 10]\n",
      "List of divisor prime [2, 5]\n"
     ]
    }
   ],
   "source": [
    "n = int(input(\"Enter the number :\"))\n",
    "n_div = 1\n",
    "List_div = []\n",
    "div = 0\n",
    "for i in range(1,n + 1):\n",
    "    if n % i == 0:\n",
    "        List_div.append(i)\n",
    "    i += 1\n",
    "print(\"List of all divisor\",List_div) \n",
    "prime = []\n",
    "for j in List_div:\n",
    "    if j != 1:\n",
    "        for d in range(2, j):\n",
    "            if j % d == 0:\n",
    "                break\n",
    "        else:\n",
    "            prime.append(j)\n",
    "print(\"List of divisor prime\", prime)     \n",
    "            "
   ]
  },
  {
   "cell_type": "code",
   "execution_count": null,
   "id": "295b93b4",
   "metadata": {},
   "outputs": [],
   "source": []
  }
 ],
 "metadata": {
  "kernelspec": {
   "display_name": "Python 3",
   "language": "python",
   "name": "python3"
  },
  "language_info": {
   "codemirror_mode": {
    "name": "ipython",
    "version": 3
   },
   "file_extension": ".py",
   "mimetype": "text/x-python",
   "name": "python",
   "nbconvert_exporter": "python",
   "pygments_lexer": "ipython3",
   "version": "3.9.2"
  }
 },
 "nbformat": 4,
 "nbformat_minor": 5
}
